{
 "cells": [
  {
   "cell_type": "code",
   "execution_count": null,
   "id": "c4a91592-ef91-49c0-9caf-f1ff9713e24a",
   "metadata": {},
   "outputs": [],
   "source": [
    "import matplotlib.pyplot as plt\n",
    "import numpy as np"
   ]
  },
  {
   "cell_type": "code",
   "execution_count": null,
   "id": "cf1c384c-0b15-4a0a-9267-b8ee7298a93a",
   "metadata": {},
   "outputs": [],
   "source": [
    "x = np.linspace(0, 1, 100)"
   ]
  },
  {
   "cell_type": "code",
   "execution_count": null,
   "id": "0e65ddc1-8cf4-456e-b468-5a409eacbc63",
   "metadata": {},
   "outputs": [],
   "source": [
    "def exp_func(x):\n",
    "    return np.exp(x)"
   ]
  },
  {
   "cell_type": "code",
   "execution_count": null,
   "id": "c51cc108-6a7d-4b43-ac8a-d1fb8128910a",
   "metadata": {},
   "outputs": [],
   "source": [
    "y = exp_func(x)"
   ]
  },
  {
   "cell_type": "code",
   "execution_count": null,
   "id": "6973fe1f-66a1-4739-8044-0201e49df3c5",
   "metadata": {},
   "outputs": [],
   "source": [
    "plt.figure(figsize=(7, 5))\n",
    "plt.plot(x, y, color='r')\n",
    "plt.xlabel('Time [milliseconds]')\n",
    "plt.ylabel('Awesomeness')\n",
    "plt.title('x vs y')\n",
    "\n",
    "plt.savefig('graph7.pdf')\n",
    "plt.show()"
   ]
  }
 ],
 "metadata": {
  "kernelspec": {
   "display_name": "Python 3 (ipykernel)",
   "language": "python",
   "name": "python3"
  },
  "language_info": {
   "codemirror_mode": {
    "name": "ipython",
    "version": 3
   },
   "file_extension": ".py",
   "mimetype": "text/x-python",
   "name": "python",
   "nbconvert_exporter": "python",
   "pygments_lexer": "ipython3",
   "version": "3.12.0"
  }
 },
 "nbformat": 4,
 "nbformat_minor": 5
}
