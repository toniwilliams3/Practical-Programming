{
 "cells": [
  {
   "cell_type": "code",
   "execution_count": null,
   "id": "f433af69-d9ca-403c-af2f-4052eb998682",
   "metadata": {},
   "outputs": [],
   "source": [
    "import matplotlib.pyplot as plt\n",
    "import numpy as np"
   ]
  },
  {
   "cell_type": "code",
   "execution_count": null,
   "id": "296b09de-14d2-4a81-bbcf-47bf4f3c754f",
   "metadata": {},
   "outputs": [],
   "source": [
    "\n",
    "x = np.random.uniform(0,1,1000) \n",
    "\n",
    "plt.hist(x, bins=100,edgecolor=\"black\")\n",
    "\n",
    "\n",
    "plt.xlabel('bins_range')\n",
    "plt.ylabel('size')\n",
    "plt.title('100 random bins')\n",
    "\n",
    "plt.savefig('graph9.pdf')\n",
    "\n",
    "plt.show()\n"
   ]
  }
 ],
 "metadata": {
  "kernelspec": {
   "display_name": "Python 3 (ipykernel)",
   "language": "python",
   "name": "python3"
  },
  "language_info": {
   "codemirror_mode": {
    "name": "ipython",
    "version": 3
   },
   "file_extension": ".py",
   "mimetype": "text/x-python",
   "name": "python",
   "nbconvert_exporter": "python",
   "pygments_lexer": "ipython3",
   "version": "3.12.0"
  }
 },
 "nbformat": 4,
 "nbformat_minor": 5
}
