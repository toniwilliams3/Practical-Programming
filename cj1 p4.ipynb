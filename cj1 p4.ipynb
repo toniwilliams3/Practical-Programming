{
 "cells": [
  {
   "cell_type": "code",
   "execution_count": 2,
   "id": "a5703a64-c82c-452e-9424-415a57074e78",
   "metadata": {},
   "outputs": [
    {
     "name": "stdout",
     "output_type": "stream",
     "text": [
      "Physical characteristics of my favorite animal:\n",
      "Arm length: 3.3 units\n",
      "Leg length: 3.2 units\n",
      "Number of eyes: 2\n",
      "Has tail: No\n",
      "Is furry: Yes\n"
     ]
    }
   ],
   "source": [
    "class FavoriteAnimal:\n",
    "    def __init__(self, arm_length, leg_length, num_eyes, has_tail, is_furry):\n",
    "        self.arm_length = arm_length\n",
    "        self.leg_length = leg_length\n",
    "        self.num_eyes = num_eyes\n",
    "        self.has_tail = has_tail\n",
    "        self.is_furry = is_furry\n",
    "\n",
    "    def describe_animal(self):\n",
    "        print(\"Physical characteristics of my favorite animal:\")\n",
    "        print(f\"Arm length: {self.arm_length} units\")\n",
    "        print(f\"Leg length: {self.leg_length} units\")\n",
    "        print(f\"Number of eyes: {self.num_eyes}\")\n",
    "        print(f\"Has tail: {'Yes' if self.has_tail else 'No'}\")\n",
    "        print(f\"Is furry: {'Yes' if self.is_furry else 'No'}\")\n",
    "\n",
    "\n",
    "my_favorite_animal = FavoriteAnimal(3.3, 3.2, 2, False, True)\n",
    "my_favorite_animal.describe_animal()\n"
   ]
  },
  {
   "cell_type": "code",
   "execution_count": null,
   "id": "68c6e294-2655-43e4-9c17-791462682d8b",
   "metadata": {},
   "outputs": [],
   "source": []
  }
 ],
 "metadata": {
  "kernelspec": {
   "display_name": "Python 3 (ipykernel)",
   "language": "python",
   "name": "python3"
  },
  "language_info": {
   "codemirror_mode": {
    "name": "ipython",
    "version": 3
   },
   "file_extension": ".py",
   "mimetype": "text/x-python",
   "name": "python",
   "nbconvert_exporter": "python",
   "pygments_lexer": "ipython3",
   "version": "3.12.0"
  }
 },
 "nbformat": 4,
 "nbformat_minor": 5
}
