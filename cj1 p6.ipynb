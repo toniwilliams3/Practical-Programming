{
 "cells": [
  {
   "cell_type": "code",
   "execution_count": 16,
   "id": "322336bc-ebfd-45ac-ad7f-280eb962708f",
   "metadata": {},
   "outputs": [],
   "source": [
    "import numpy as np\n",
    "import pandas as pd"
   ]
  },
  {
   "cell_type": "code",
   "execution_count": 17,
   "id": "6e340766-712d-4899-bbba-4dbd14696b28",
   "metadata": {},
   "outputs": [],
   "source": [
    "def sin_function(x):\n",
    "    return np.sin(x)"
   ]
  },
  {
   "cell_type": "code",
   "execution_count": 18,
   "id": "8158f930-52cb-4dc0-bb96-40b320bbe047",
   "metadata": {},
   "outputs": [],
   "source": [
    "def cos_function(x):\n",
    "    return np.cos(x)"
   ]
  },
  {
   "cell_type": "code",
   "execution_count": 24,
   "id": "e52f0ed2-c595-44ae-b09d-22d61888c8d3",
   "metadata": {},
   "outputs": [
    {
     "data": {
      "text/html": [
       "<div>\n",
       "<style scoped>\n",
       "    .dataframe tbody tr th:only-of-type {\n",
       "        vertical-align: middle;\n",
       "    }\n",
       "\n",
       "    .dataframe tbody tr th {\n",
       "        vertical-align: top;\n",
       "    }\n",
       "\n",
       "    .dataframe thead th {\n",
       "        text-align: right;\n",
       "    }\n",
       "</style>\n",
       "<table border=\"1\" class=\"dataframe\">\n",
       "  <thead>\n",
       "    <tr style=\"text-align: right;\">\n",
       "      <th></th>\n",
       "      <th>x</th>\n",
       "      <th>sin(x)</th>\n",
       "      <th>cos(x)</th>\n",
       "    </tr>\n",
       "  </thead>\n",
       "  <tbody>\n",
       "    <tr>\n",
       "      <th>0</th>\n",
       "      <td>0.000000</td>\n",
       "      <td>0.000000</td>\n",
       "      <td>1.000000</td>\n",
       "    </tr>\n",
       "    <tr>\n",
       "      <th>1</th>\n",
       "      <td>0.002002</td>\n",
       "      <td>0.002002</td>\n",
       "      <td>0.999998</td>\n",
       "    </tr>\n",
       "    <tr>\n",
       "      <th>2</th>\n",
       "      <td>0.004004</td>\n",
       "      <td>0.004004</td>\n",
       "      <td>0.999992</td>\n",
       "    </tr>\n",
       "    <tr>\n",
       "      <th>3</th>\n",
       "      <td>0.006006</td>\n",
       "      <td>0.006006</td>\n",
       "      <td>0.999982</td>\n",
       "    </tr>\n",
       "    <tr>\n",
       "      <th>4</th>\n",
       "      <td>0.008008</td>\n",
       "      <td>0.008008</td>\n",
       "      <td>0.999968</td>\n",
       "    </tr>\n",
       "  </tbody>\n",
       "</table>\n",
       "</div>"
      ],
      "text/plain": [
       "          x    sin(x)    cos(x)\n",
       "0  0.000000  0.000000  1.000000\n",
       "1  0.002002  0.002002  0.999998\n",
       "2  0.004004  0.004004  0.999992\n",
       "3  0.006006  0.006006  0.999982\n",
       "4  0.008008  0.008008  0.999968"
      ]
     },
     "execution_count": 24,
     "metadata": {},
     "output_type": "execute_result"
    }
   ],
   "source": [
    "table_size = 1000\n",
    "start_x = 0\n",
    "end_x = 2\n",
    "x_values = np.linspace(start_x, end_x, table_size)\n",
    "sin_values = sin_function(x_values)\n",
    "cos_values = cos_function(x_values)\n",
    "table_data = {'x': x_values, 'sin(x)': sin_values,'cos(x)': cos_values}\n",
    "df = pd.DataFrame(table_data)\n",
    "df.head()"
   ]
  },
  {
   "cell_type": "code",
   "execution_count": 21,
   "id": "444c0949-60e6-4ee4-8396-af39d46b1239",
   "metadata": {},
   "outputs": [
    {
     "name": "stdout",
     "output_type": "stream",
     "text": [
      "0.00000.00001.0000\n",
      "0.00200.00201.0000\n",
      "0.00400.00401.0000\n",
      "0.00600.00601.0000\n",
      "0.00800.00801.0000\n",
      "0.01000.01000.9999\n",
      "0.01200.01200.9999\n",
      "0.01400.01400.9999\n",
      "0.01600.01600.9999\n",
      "0.01800.01800.9998\n"
     ]
    }
   ],
   "source": [
    "for i in range(10):\n",
    "    x_val = df['x'][i]\n",
    "    sin_val = df['sin(x)'][i]\n",
    "    cos_val = df['cos(x)'][i]\n",
    "    \n",
    "    print(f\"{x_val:.4f}{sin_val:.4f}{cos_val:.4f}\")"
   ]
  }
 ],
 "metadata": {
  "kernelspec": {
   "display_name": "Python 3 (ipykernel)",
   "language": "python",
   "name": "python3"
  },
  "language_info": {
   "codemirror_mode": {
    "name": "ipython",
    "version": 3
   },
   "file_extension": ".py",
   "mimetype": "text/x-python",
   "name": "python",
   "nbconvert_exporter": "python",
   "pygments_lexer": "ipython3",
   "version": "3.12.0"
  }
 },
 "nbformat": 4,
 "nbformat_minor": 5
}
