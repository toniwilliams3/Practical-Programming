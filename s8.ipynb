{
 "cells": [
  {
   "cell_type": "code",
   "execution_count": null,
   "id": "59bb5977-5367-4b19-af10-8b1d37a9f5b1",
   "metadata": {},
   "outputs": [],
   "source": [
    "import matplotlib.pyplot as plt\n",
    "import numpy as np"
   ]
  },
  {
   "cell_type": "code",
   "execution_count": null,
   "id": "95759c18-a785-4463-8e6c-f158e79a6611",
   "metadata": {},
   "outputs": [],
   "source": [
    "x = np.linspace(0,1,100)\n",
    "\n",
    "def cos_func(x):\n",
    "    return np.cos(x)\n",
    "def sin_func(x):\n",
    "    return np.sin(x)"
   ]
  },
  {
   "cell_type": "code",
   "execution_count": null,
   "id": "2d4e6d4d-2136-4073-896a-426c5152cd25",
   "metadata": {},
   "outputs": [],
   "source": [
    "f, axarr = plt.subplots(1, 2)\n",
    "\n",
    "axarr[0].plot(sin_func(x),x, color='r')\n",
    "axarr[0].set_xlabel(\"x\")\n",
    "axarr[0].set_ylabel(\"sin(x)\")\n",
    "axarr[0].set_title(\"sin(x) vs x\")\n",
    "\n",
    "axarr[1].plot(cos_func(x),x,color='b')\n",
    "axarr[1].set_xlabel(\"x\")\n",
    "axarr[1].set_ylabel(\"cos(x)\")\n",
    "axarr[1].set_title(\"cos(x) vs x\")\n",
    "f.subplots_adjust(wspace=0.4)\n",
    "\n",
    "plt.savefig('graph8.pdf')\n"
   ]
  }
 ],
 "metadata": {
  "kernelspec": {
   "display_name": "Python 3 (ipykernel)",
   "language": "python",
   "name": "python3"
  },
  "language_info": {
   "codemirror_mode": {
    "name": "ipython",
    "version": 3
   },
   "file_extension": ".py",
   "mimetype": "text/x-python",
   "name": "python",
   "nbconvert_exporter": "python",
   "pygments_lexer": "ipython3",
   "version": "3.12.0"
  }
 },
 "nbformat": 4,
 "nbformat_minor": 5
}
