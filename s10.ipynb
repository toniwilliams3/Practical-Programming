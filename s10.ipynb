{
 "cells": [
  {
   "cell_type": "code",
   "execution_count": null,
   "id": "10dca383-161a-4934-b380-8cc7a70cc02b",
   "metadata": {},
   "outputs": [],
   "source": [
    "import numpy as np\n",
    "import matplotlib.pyplot as plt"
   ]
  },
  {
   "cell_type": "code",
   "execution_count": null,
   "id": "146d1534-4b3b-4890-8a06-7cd7783c8beb",
   "metadata": {},
   "outputs": [],
   "source": [
    "x = np.random.normal(0,1,1000)\n",
    "\n",
    "plt.hist(x, bins=100, color = 'orange',edgecolor = 'black')\n",
    "plt.xlabel('size')\n",
    "plt.ylabel('bins_frecuency')\n",
    "\n",
    "plt.title('Distributioin of values')\n",
    "\n",
    "plt.savefig('graph10.pdf')\n",
    "plt.show()\n"
   ]
  },
  {
   "cell_type": "code",
   "execution_count": null,
   "id": "bfd60189-0cd8-4d10-82d9-fb2f0db9d2eb",
   "metadata": {},
   "outputs": [],
   "source": []
  }
 ],
 "metadata": {
  "kernelspec": {
   "display_name": "Python 3 (ipykernel)",
   "language": "python",
   "name": "python3"
  },
  "language_info": {
   "codemirror_mode": {
    "name": "ipython",
    "version": 3
   },
   "file_extension": ".py",
   "mimetype": "text/x-python",
   "name": "python",
   "nbconvert_exporter": "python",
   "pygments_lexer": "ipython3",
   "version": "3.12.0"
  }
 },
 "nbformat": 4,
 "nbformat_minor": 5
}
