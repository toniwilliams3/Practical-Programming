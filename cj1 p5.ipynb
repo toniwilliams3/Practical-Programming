{
 "cells": [
  {
   "cell_type": "code",
   "execution_count": 1,
   "id": "cd0e2471-7cf9-4c44-abf5-dbff438decec",
   "metadata": {},
   "outputs": [],
   "source": [
    "import math"
   ]
  },
  {
   "cell_type": "code",
   "execution_count": 8,
   "id": "a5d415a7-6ef1-408f-ae6d-9da18524dc5f",
   "metadata": {},
   "outputs": [],
   "source": [
    "def generate_table():\n",
    "    table_size = 20\n",
    "    start_x = 0\n",
    "    end_x = 2\n",
    "    step_size = (end_x - start_x) / (table_size - 1)\n",
    "\n",
    "    for i in range(table_size):\n",
    "        x = start_x + i * step_size\n",
    "        sin_x = math.sin(x)\n",
    "        print(f\"{x:.4f}|{sin_x:.4f}\")\n"
   ]
  },
  {
   "cell_type": "code",
   "execution_count": 9,
   "id": "65c8c9db-127a-402b-9649-5524a75f51dc",
   "metadata": {},
   "outputs": [],
   "source": [
    "def main():\n",
    "    print(\"sin(x) & x\")\n",
    "    generate_table()"
   ]
  },
  {
   "cell_type": "code",
   "execution_count": 10,
   "id": "edab4118-5ae0-47e7-ab76-61bdbdc1df92",
   "metadata": {},
   "outputs": [
    {
     "name": "stdout",
     "output_type": "stream",
     "text": [
      "sin(x) & x\n",
      "0.0000|0.0000\n",
      "0.1053|0.1051\n",
      "0.2105|0.2090\n",
      "0.3158|0.3106\n",
      "0.4211|0.4087\n",
      "0.5263|0.5024\n",
      "0.6316|0.5904\n",
      "0.7368|0.6720\n",
      "0.8421|0.7460\n",
      "0.9474|0.8119\n",
      "1.0526|0.8687\n",
      "1.1579|0.9160\n",
      "1.2632|0.9531\n",
      "1.3684|0.9796\n",
      "1.4737|0.9953\n",
      "1.5789|1.0000\n",
      "1.6842|0.9936\n",
      "1.7895|0.9762\n",
      "1.8947|0.9480\n",
      "2.0000|0.9093\n"
     ]
    }
   ],
   "source": [
    "if __name__ == \"__main__\":\n",
    "    main()"
   ]
  },
  {
   "cell_type": "code",
   "execution_count": null,
   "id": "671ec672-4fc3-4817-8f1c-a3d8cb2c5147",
   "metadata": {},
   "outputs": [],
   "source": []
  }
 ],
 "metadata": {
  "kernelspec": {
   "display_name": "Python 3 (ipykernel)",
   "language": "python",
   "name": "python3"
  },
  "language_info": {
   "codemirror_mode": {
    "name": "ipython",
    "version": 3
   },
   "file_extension": ".py",
   "mimetype": "text/x-python",
   "name": "python",
   "nbconvert_exporter": "python",
   "pygments_lexer": "ipython3",
   "version": "3.12.0"
  }
 },
 "nbformat": 4,
 "nbformat_minor": 5
}
